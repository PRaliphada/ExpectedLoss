{
  "nbformat": 4,
  "nbformat_minor": 0,
  "metadata": {
    "colab": {
      "provenance": [],
      "authorship_tag": "ABX9TyMI95MXM+i8wB04nGgjeFTw",
      "include_colab_link": true
    },
    "kernelspec": {
      "name": "python3",
      "display_name": "Python 3"
    },
    "language_info": {
      "name": "python"
    }
  },
  "cells": [
    {
      "cell_type": "markdown",
      "metadata": {
        "id": "view-in-github",
        "colab_type": "text"
      },
      "source": [
        "<a href=\"https://colab.research.google.com/github/PRaliphada/ExpectedLoss/blob/main/Sentiment_Data_From_NewsAPI.ipynb\" target=\"_parent\"><img src=\"https://colab.research.google.com/assets/colab-badge.svg\" alt=\"Open In Colab\"/></a>"
      ]
    },
    {
      "cell_type": "code",
      "source": [
        "!pip install vaderSentiment"
      ],
      "metadata": {
        "colab": {
          "base_uri": "https://localhost:8080/"
        },
        "id": "Rbe4pZ9qahVp",
        "outputId": "9e9ddf67-1f52-4911-e040-3b4ddbdd86de"
      },
      "execution_count": 2,
      "outputs": [
        {
          "output_type": "stream",
          "name": "stdout",
          "text": [
            "Collecting vaderSentiment\n",
            "  Downloading vaderSentiment-3.3.2-py2.py3-none-any.whl.metadata (572 bytes)\n",
            "Requirement already satisfied: requests in /usr/local/lib/python3.10/dist-packages (from vaderSentiment) (2.32.3)\n",
            "Requirement already satisfied: charset-normalizer<4,>=2 in /usr/local/lib/python3.10/dist-packages (from requests->vaderSentiment) (3.3.2)\n",
            "Requirement already satisfied: idna<4,>=2.5 in /usr/local/lib/python3.10/dist-packages (from requests->vaderSentiment) (3.8)\n",
            "Requirement already satisfied: urllib3<3,>=1.21.1 in /usr/local/lib/python3.10/dist-packages (from requests->vaderSentiment) (2.0.7)\n",
            "Requirement already satisfied: certifi>=2017.4.17 in /usr/local/lib/python3.10/dist-packages (from requests->vaderSentiment) (2024.8.30)\n",
            "Downloading vaderSentiment-3.3.2-py2.py3-none-any.whl (125 kB)\n",
            "\u001b[?25l   \u001b[90m━━━━━━━━━━━━━━━━━━━━━━━━━━━━━━━━━━━━━━━━\u001b[0m \u001b[32m0.0/126.0 kB\u001b[0m \u001b[31m?\u001b[0m eta \u001b[36m-:--:--\u001b[0m\r\u001b[2K   \u001b[91m━━━━━━━━━━━━━━━━━━━━━━━━━━━━━━━━━━━━━━━\u001b[0m\u001b[90m╺\u001b[0m \u001b[32m122.9/126.0 kB\u001b[0m \u001b[31m5.6 MB/s\u001b[0m eta \u001b[36m0:00:01\u001b[0m\r\u001b[2K   \u001b[90m━━━━━━━━━━━━━━━━━━━━━━━━━━━━━━━━━━━━━━━━\u001b[0m \u001b[32m126.0/126.0 kB\u001b[0m \u001b[31m3.2 MB/s\u001b[0m eta \u001b[36m0:00:00\u001b[0m\n",
            "\u001b[?25hInstalling collected packages: vaderSentiment\n",
            "Successfully installed vaderSentiment-3.3.2\n"
          ]
        }
      ]
    },
    {
      "cell_type": "code",
      "execution_count": 7,
      "metadata": {
        "colab": {
          "base_uri": "https://localhost:8080/"
        },
        "id": "kRJVMedDaL7V",
        "outputId": "fa749f79-e9e5-403c-bb1b-ac470081b7c1"
      },
      "outputs": [
        {
          "output_type": "stream",
          "name": "stdout",
          "text": [
            "                  Source    Entity Sentiment  \\\n",
            "0    Yahoo Entertainment  Facebook  Negative   \n",
            "1    Yahoo Entertainment  Facebook  Positive   \n",
            "2              The Verge  Facebook  Positive   \n",
            "3               BBC News  Facebook   Neutral   \n",
            "4            Gizmodo.com  Facebook  Positive   \n",
            "..                   ...       ...       ...   \n",
            "395            [Removed]    Google   Neutral   \n",
            "396            [Removed]    Google   Neutral   \n",
            "397          Gizmodo.com    Google   Neutral   \n",
            "398          Gizmodo.com    Google  Negative   \n",
            "399         Slashdot.org    Google  Positive   \n",
            "\n",
            "                                          News Content  \n",
            "0    Meta’s latest round of account takedowns inclu...  \n",
            "1    Congress can’t get enough of the Meta boss. Ni...  \n",
            "2    Meta is shutting down the Spark API, which let...  \n",
            "3    Nicola Smith booked the caravan on Facebook, b...  \n",
            "4    The Facebook founder really seems to want Repu...  \n",
            "..                                                 ...  \n",
            "395                                          [Removed]  \n",
            "396                                          [Removed]  \n",
            "397  The HP 14\" Chromebook is now available for $31...  \n",
            "398  Consumers have long worried their devices are ...  \n",
            "399  A rare bid to break up Alphabet's Google is on...  \n",
            "\n",
            "[400 rows x 4 columns]\n"
          ]
        }
      ],
      "source": [
        "import requests\n",
        "import pandas as pd\n",
        "from vaderSentiment.vaderSentiment import SentimentIntensityAnalyzer\n",
        "\n",
        "# Your NewsAPI key\n",
        "newsapi_key = '6dc23737eb7144c5b3d46c55ed9e6f1b'\n",
        "\n",
        "# Financial entities to search for\n",
        "entities = ['Facebook', 'Amazon', 'Microsoft', 'Google']\n",
        "\n",
        "# Set up VADER Sentiment Analyzer\n",
        "analyzer = SentimentIntensityAnalyzer()\n",
        "\n",
        "# Function to classify sentiment\n",
        "def get_sentiment(text):\n",
        "    sentiment_score = analyzer.polarity_scores(text)['compound']\n",
        "    if sentiment_score >= 0.05:\n",
        "        return 'Positive'\n",
        "    elif sentiment_score <= -0.05:\n",
        "        return 'Negative'\n",
        "    else:\n",
        "        return 'Neutral'\n",
        "\n",
        "# Function to get news articles\n",
        "def get_news(entity, api_key, num_articles=100):\n",
        "    url = f'https://newsapi.org/v2/everything?q={entity}&apiKey={api_key}&language=en&pageSize={num_articles}'\n",
        "    response = requests.get(url)\n",
        "    data = response.json()\n",
        "\n",
        "    news_data = []\n",
        "    if data['status'] == 'ok':\n",
        "        articles = data['articles']\n",
        "        for article in articles:\n",
        "            news_content = article['description'] if article['description'] else article['content']\n",
        "            sentiment = get_sentiment(news_content)\n",
        "            news_data.append([article['source']['name'], entity, sentiment, news_content])\n",
        "\n",
        "    return news_data\n",
        "\n",
        "# Store all news data\n",
        "all_news = []\n",
        "\n",
        "for entity in entities:\n",
        "    all_news.extend(get_news(entity, newsapi_key))\n",
        "\n",
        "# Create a DataFrame\n",
        "df = pd.DataFrame(all_news, columns=['Source', 'Entity', 'Sentiment', 'News Content'])\n",
        "\n",
        "# Save to CSV\n",
        "df.to_csv('financial_news_sentiment.csv', index=False)\n",
        "\n",
        "print(df)\n"
      ]
    },
    {
      "cell_type": "code",
      "source": [
        "article_count = df['Entity'].value_counts()\n",
        "print(article_count)"
      ],
      "metadata": {
        "colab": {
          "base_uri": "https://localhost:8080/"
        },
        "id": "JSIZ6hG5b94X",
        "outputId": "8f67d7d3-a44a-411b-9119-6df08ea5f55e"
      },
      "execution_count": 8,
      "outputs": [
        {
          "output_type": "stream",
          "name": "stdout",
          "text": [
            "Entity\n",
            "Facebook     100\n",
            "Amazon       100\n",
            "Microsoft    100\n",
            "Google       100\n",
            "Name: count, dtype: int64\n"
          ]
        }
      ]
    }
  ]
}