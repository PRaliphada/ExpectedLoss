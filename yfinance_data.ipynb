{
  "nbformat": 4,
  "nbformat_minor": 0,
  "metadata": {
    "colab": {
      "provenance": [],
      "authorship_tag": "ABX9TyPa7H+/C9tyLDwNAyV91FuK",
      "include_colab_link": true
    },
    "kernelspec": {
      "name": "python3",
      "display_name": "Python 3"
    },
    "language_info": {
      "name": "python"
    }
  },
  "cells": [
    {
      "cell_type": "markdown",
      "metadata": {
        "id": "view-in-github",
        "colab_type": "text"
      },
      "source": [
        "<a href=\"https://colab.research.google.com/github/PRaliphada/ExpectedLoss/blob/main/yfinance_data.ipynb\" target=\"_parent\"><img src=\"https://colab.research.google.com/assets/colab-badge.svg\" alt=\"Open In Colab\"/></a>"
      ]
    },
    {
      "cell_type": "code",
      "execution_count": 1,
      "metadata": {
        "colab": {
          "base_uri": "https://localhost:8080/"
        },
        "id": "tgo7U7sPXE_n",
        "outputId": "41514c9c-e68d-48ea-e7bb-4f42118e44c6"
      },
      "outputs": [
        {
          "output_type": "stream",
          "name": "stdout",
          "text": [
            "      Entity  Open Price  Close Price      Volume\n",
            "0   Facebook  506.160004   504.279999   7772614.0\n",
            "1     Amazon  174.490005   175.095001  21221790.0\n",
            "2  Microsoft  407.239990   404.950012  10900648.0\n",
            "3     Google  152.479996   148.345001  29491744.0\n"
          ]
        }
      ],
      "source": [
        "import yfinance as yf\n",
        "import pandas as pd\n",
        "\n",
        "# List of company ticker symbols\n",
        "companies = {\n",
        "    'Facebook': 'META',  # Facebook's parent company is Meta (META)\n",
        "    'Amazon': 'AMZN',\n",
        "    'Microsoft': 'MSFT',\n",
        "    'Google': 'GOOGL'\n",
        "}\n",
        "\n",
        "# Data storage\n",
        "financial_data = []\n",
        "\n",
        "# Loop through each company and get the latest stock info\n",
        "for entity, ticker in companies.items():\n",
        "    stock = yf.Ticker(ticker)\n",
        "\n",
        "    # Extracting the latest data\n",
        "    data = stock.history(period=\"1d\")\n",
        "    latest_data = data.iloc[-1]  # Get the last available data point\n",
        "\n",
        "    # Example of extracted financial data\n",
        "    financial_data.append([entity, latest_data['Open'], latest_data['Close'], latest_data['Volume']])\n",
        "\n",
        "# Create DataFrame\n",
        "df = pd.DataFrame(financial_data, columns=['Entity', 'Open Price', 'Close Price', 'Volume'])\n",
        "\n",
        "# Save to CSV\n",
        "df.to_csv('financial_data.csv', index=False)\n",
        "print(df)\n"
      ]
    }
  ]
}